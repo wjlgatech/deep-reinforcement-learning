{
 "cells": [
  {
   "cell_type": "markdown",
   "metadata": {},
   "source": [
    "Q: How to define Network Architeture?\n",
    "A: CNN has a series of layers (CPCS)\n",
    "- Convolution + ReLu: various filters (edges filter and color filters) to detect local features\n",
    "- Max Pooling: downsize image by extracting max local values\n",
    "- Fully Connected + ReLu: \n",
    "- Softmax: to calculate class probability, squezz large value into the [0, 1] box.\n",
    "\n",
    "\n",
    "**Reference:**\n",
    "\n",
    "-[How to define CNN network architeture in PyTorch](https://classroom.udacity.com/nanodegrees/nd893/parts/26e3031e-6c15-456a-8811-eeeac0a3e196/modules/f1ea67a5-4d33-4f14-b84c-ddbc8ef86d23/lessons/a747f249-4124-4a7e-9e74-ee50e607c849/concepts/0c50b4b7-7ca2-4332-ba30-e1aa3f1a215c)"
   ]
  },
  {
   "cell_type": "code",
   "execution_count": 3,
   "metadata": {},
   "outputs": [],
   "source": [
    "import torch.nn as nn\n",
    "import torch.nn.functional as F\n",
    "\n",
    "class Net(nn.Module):\n",
    "    \n",
    "    # define CNN's layers in __init__()\n",
    "    def __init__(self, n_classes):\n",
    "        super(Net, self).__init__()# access the .__init__() method of the parents class 'nn.Module'\n",
    "        \n",
    "        # For greyscale image: 1 input channel. 32 output channels. 5x5 square convolution kernel \n",
    "        self.conv1 = nn.Conv2d(in_channels=1, out_channels=32, kernel_size=5)\n",
    "        \n",
    "        # Maxpooling to downsize layer\n",
    "        self.pool = nn.MaxPool2d(kernel_size=2, stride=2)\n",
    "        \n",
    "        # fully connected layer: after pooling the image is downsized to 32*4\n",
    "        self.fc1 = nn.Linear(in_features=32*4, out_features=n_classes)\n",
    "    \n",
    "    # defining feedforward behavior by connecting all layers \n",
    "    def forward(self, x):\n",
    "        # conv -> relu -> pool\n",
    "        x = self.pool(F.relu(self.conv1(x)))\n",
    "        \n",
    "        # flattening feature matrix(maps) into feature vector\n",
    "        x = x.view(x.size(0), -1)\n",
    "        \n",
    "        # fc -> relu\n",
    "        x = F.relu(self.fc1(x))"
   ]
  },
  {
   "cell_type": "code",
   "execution_count": 4,
   "metadata": {},
   "outputs": [
    {
     "name": "stdout",
     "output_type": "stream",
     "text": [
      "Net(\n",
      "  (conv1): Conv2d(1, 32, kernel_size=(5, 5), stride=(1, 1))\n",
      "  (pool): MaxPool2d(kernel_size=2, stride=2, padding=0, dilation=1, ceil_mode=False)\n",
      "  (fc1): Linear(in_features=128, out_features=20, bias=True)\n",
      ")\n"
     ]
    }
   ],
   "source": [
    "# instantiate and print your Net\n",
    "n_classes = 20\n",
    "net = Net(n_classes)\n",
    "print(net)"
   ]
  },
  {
   "cell_type": "code",
   "execution_count": null,
   "metadata": {},
   "outputs": [],
   "source": []
  }
 ],
 "metadata": {
  "kernelspec": {
   "display_name": "Python 3",
   "language": "python",
   "name": "python3"
  },
  "language_info": {
   "codemirror_mode": {
    "name": "ipython",
    "version": 3
   },
   "file_extension": ".py",
   "mimetype": "text/x-python",
   "name": "python",
   "nbconvert_exporter": "python",
   "pygments_lexer": "ipython3",
   "version": "3.7.3"
  }
 },
 "nbformat": 4,
 "nbformat_minor": 2
}
